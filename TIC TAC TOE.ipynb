{
 "cells": [
  {
   "cell_type": "markdown",
   "id": "c3cb27d5",
   "metadata": {},
   "source": [
    "# TIC TAC TOE\n"
   ]
  },
  {
   "cell_type": "code",
   "execution_count": 10,
   "id": "93ceb659",
   "metadata": {},
   "outputs": [],
   "source": [
    "from IPython.display import clear_output\n",
    "#Display Board\n",
    "def display(n_Ist):\n",
    "    clear_output()\n",
    "    print('✪ Tic-Tac-Toe ✪')\n",
    "    print('| ',n_Ist[7], '| ',n_Ist[8], '| ',n_Ist[9], '|')\n",
    "    print('| ',n_Ist[4], '| ',n_Ist[5], '| ',n_Ist[6], '|')\n",
    "    print('| ',n_Ist[1], '| ',n_Ist[2], '| ',n_Ist[3], '|')\n",
    "    print(' ❊The DeadMan❊')"
   ]
  },
  {
   "cell_type": "code",
   "execution_count": 11,
   "id": "af9a671d",
   "metadata": {},
   "outputs": [
    {
     "name": "stdout",
     "output_type": "stream",
     "text": [
      "✪ Tic-Tac-Toe ✪\n",
      "|  7 |  8 |  9 |\n",
      "|  4 |  5 |  6 |\n",
      "|  1 |  2 |  3 |\n",
      " ❊The DeadMan❊\n"
     ]
    }
   ],
   "source": [
    "#Check board for Dummy Input\n",
    "n_Ist =['Dummy', 1,2,3,4,5,6,7,8,9]\n",
    "display(n_Ist)"
   ]
  },
  {
   "cell_type": "code",
   "execution_count": 18,
   "id": "ba5a5aee",
   "metadata": {},
   "outputs": [
    {
     "name": "stdout",
     "output_type": "stream",
     "text": [
      "✪ Tic-Tac-Toe ✪\n",
      "|    |    |    |\n",
      "|    |    |    |\n",
      "|    |    |    |\n",
      " ❊The DeadMan❊\n",
      "[' ', ' ', ' ', ' ', ' ', ' ', ' ', ' ', ' ', ' ']\n"
     ]
    }
   ],
   "source": [
    "#Check for Dummy Input\n",
    "n_Ist=[' ']*10\n",
    "display(n_Ist)\n",
    "print(n_Ist)"
   ]
  },
  {
   "cell_type": "code",
   "execution_count": 17,
   "id": "c1ebe408",
   "metadata": {},
   "outputs": [
    {
     "name": "stdout",
     "output_type": "stream",
     "text": [
      "✪ Tic-Tac-Toe ✪\n",
      "|  X |  X |  X |\n",
      "|  X |  X |  X |\n",
      "|  X |  X |  X |\n",
      " ❊The DeadMan❊\n"
     ]
    }
   ],
   "source": [
    "#Check for 'X' Input\n",
    "n_Ist=[' ']*10\n",
    "for i in range(9):\n",
    "    temp=int(input('Enter the input:'))\n",
    "    n_Ist[temp]='X'\n",
    "    display(n_Ist)"
   ]
  },
  {
   "cell_type": "code",
   "execution_count": 19,
   "id": "a5aa71bc",
   "metadata": {},
   "outputs": [
    {
     "name": "stdout",
     "output_type": "stream",
     "text": [
      "✪ Tic-Tac-Toe ✪\n",
      "|  X |  0 |  X |\n",
      "|  0 |  X |  0 |\n",
      "|  X |  0 |  X |\n",
      " ❊The DeadMan❊\n"
     ]
    }
   ],
   "source": [
    "#Check board for alternate 'X' and '0' inputs\n",
    "n_Ist=[' ']*10\n",
    "for i in range(9):\n",
    "    temp=int(input('Enter the input:'))\n",
    "    if(i%2==0):\n",
    "        n_Ist[temp]='X'\n",
    "#     else:\n",
    "        n_Ist[temp]='O'\n",
    "    display(n_Ist)"
   ]
  },
  {
   "cell_type": "code",
   "execution_count": 23,
   "id": "7185391b",
   "metadata": {},
   "outputs": [],
   "source": [
    "#Check winning condition\n",
    "#Winning cases-1,2,3,-4,5,6-7,8,9-1,4,7-2,5,8-3,6,9-1,5,9-3,5,7\n",
    "#Check all th eight cases\n",
    "def check_winning_condition(mark, n_Ist):\n",
    "    if(((n_Ist[1] == mark) and (n_Ist[2] ==mark) and (n_Ist[3] ==mark))or\n",
    "       ((n_Ist[4] == mark) and (n_Ist[5] ==mark) and (n_Ist[6] ==mark))or\n",
    "       ((n_Ist[7] == mark) and (n_Ist[8] ==mark) and (n_Ist[9] ==mark))or\n",
    "       ((n_Ist[1] == mark) and (n_Ist[4] ==mark) and (n_Ist[7] ==mark))or\n",
    "       ((n_Ist[2] == mark) and (n_Ist[5] ==mark) and (n_Ist[8] ==mark))or\n",
    "       ((n_Ist[3] == mark) and (n_Ist[6] ==mark) and (n_Ist[9] ==mark))or\n",
    "       ((n_Ist[1] == mark) and (n_Ist[5] ==mark) and (n_Ist[9] ==mark))or\n",
    "       ((n_Ist[3] == mark) and (n_Ist[5] ==mark) and (n_Ist[7] ==mark))):\n",
    "        return 1\n",
    "    else:\n",
    "        return 0"
   ]
  },
  {
   "cell_type": "code",
   "execution_count": 25,
   "id": "7217d0da",
   "metadata": {},
   "outputs": [
    {
     "name": "stdout",
     "output_type": "stream",
     "text": [
      "✪ Tic-Tac-Toe ✪\n",
      "|  X |    |    |\n",
      "|  0 |  X |  0 |\n",
      "|  X |  0 |  X |\n",
      " ❊The DeadMan❊\n",
      "Hurrey! Player1 Won!\n"
     ]
    }
   ],
   "source": [
    "#Play and check for Player 1 and Player 2\n",
    "#Winning and Match Tie Status is displayed at the end\n",
    "n_Ist=[' ']*10\n",
    "for i in range(9):\n",
    "    temp=int(input('Enter the input:'))\n",
    "    if(i%2==0):\n",
    "        n_Ist[temp]='X'\n",
    "        mark='X'\n",
    "        temp1=check_winning_condition(mark,n_Ist)\n",
    "    else:\n",
    "        n_Ist[temp]='O'\n",
    "        mark='O'\n",
    "        temp1=check_winning_condition(mark, n_Ist)\n",
    "    display(n_Ist)\n",
    "    if(temp1 == 1):\n",
    "        break\n",
    "if(temp1 == 1):\n",
    "    if(i%2 == 0):\n",
    "        print('Hurrey! Player1 Won!')\n",
    "    else:\n",
    "        print('Hurrey! Player2 Won!')\n",
    "else:\n",
    "    print('There is a tie')"
   ]
  },
  {
   "cell_type": "code",
   "execution_count": 30,
   "id": "90657bfe",
   "metadata": {},
   "outputs": [
    {
     "name": "stdout",
     "output_type": "stream",
     "text": [
      "✪ Tic-Tac-Toe ✪\n",
      "|  X |    |    |\n",
      "|  0 |  X |  0 |\n",
      "|  X |  0 |  X |\n",
      " ❊The DeadMan❊\n",
      "Hurrey! Player1 Won!\n",
      "Do you want to play again? - Enter Yes or No: Yes\n"
     ]
    }
   ],
   "source": [
    "while(True):\n",
    "    n_Ist=[' ']*10\n",
    "    for i in range(9):\n",
    "        temp=int(input('Enter the input:'))\n",
    "        if(i%2==0):\n",
    "            n_Ist[temp]='X'\n",
    "            mark='X'\n",
    "            temp1=check_winning_condition(mark,n_Ist)\n",
    "        else:\n",
    "            n_Ist[temp]='0'\n",
    "            mark='0'\n",
    "            temp1=check_winning_condition(mark, n_Ist)\n",
    "        display(n_Ist)\n",
    "        if(temp1 == 1):\n",
    "            break\n",
    "    if(temp1 == 1):\n",
    "        if(i%2 == 0):\n",
    "            print('Hurrey! Player1 Won!')\n",
    "        else:\n",
    "            print('Hurrey! Player2 Won!')\n",
    "    else:\n",
    "        print('There is a tie')\n",
    "    replay_status = input('Do you want to play again? - Enter Yes or No: ')\n",
    "    if(replay_status == 'Yes'):\n",
    "        break"
   ]
  },
  {
   "cell_type": "code",
   "execution_count": 35,
   "id": "0616d603",
   "metadata": {},
   "outputs": [
    {
     "name": "stdout",
     "output_type": "stream",
     "text": [
      "✪ Tic-Tac-Toe ✪\n",
      "|  O |    |    |\n",
      "|  X |  O |  X |\n",
      "|  O |  X |  O |\n",
      " ❊The DeadMan❊\n",
      "Hurrey! Player1 Won!\n",
      "Do you want to play again? - Enter Yes or No: Yes\n"
     ]
    }
   ],
   "source": [
    "#Player1 has the right to choose a specific mark -X or 0\n",
    "while(True):\n",
    "    n_Ist=[' ']*10\n",
    "    display(n_Ist)\n",
    "    #player1_mark=' '\n",
    "    #player2_mark=' '\n",
    "    player1_mark=input(\"Player1, please enter your choice! -'X'or 'O': \")\n",
    "    if(player1_mark.upper() == 'X'):\n",
    "        player1_mark = 'X'\n",
    "        player2_mark = 'O'\n",
    "    else:\n",
    "        player1_mark = 'O'\n",
    "        player2_mark = 'X'\n",
    "    for i in range(9):\n",
    "        temp=int(input('Enter the input:'))\n",
    "        if(i%2==0):\n",
    "            n_Ist[temp]=player1_mark\n",
    "            mark=player1_mark\n",
    "            temp1=check_winning_condition(mark,n_Ist)\n",
    "        else:\n",
    "            n_Ist[temp]=player2_mark\n",
    "            mark=player2_mark\n",
    "            temp1=check_winning_condition(mark, n_Ist)\n",
    "        display(n_Ist)\n",
    "        if(temp1 == 1):\n",
    "            break\n",
    "    if(temp1 == 1):\n",
    "        if(i%2 == 0):\n",
    "            print('Hurrey! Player1 Won!')\n",
    "        else:\n",
    "            print('Hurrey! Player2 Won!')\n",
    "    else:\n",
    "        print('There is a tie')\n",
    "    replay_status = input('Do you want to play again? - Enter Yes or No: ')\n",
    "    if(replay_status == 'Yes'):\n",
    "        break"
   ]
  },
  {
   "cell_type": "code",
   "execution_count": null,
   "id": "5ec015cc",
   "metadata": {},
   "outputs": [],
   "source": []
  }
 ],
 "metadata": {
  "kernelspec": {
   "display_name": "Python 3",
   "language": "python",
   "name": "python3"
  },
  "language_info": {
   "codemirror_mode": {
    "name": "ipython",
    "version": 3
   },
   "file_extension": ".py",
   "mimetype": "text/x-python",
   "name": "python",
   "nbconvert_exporter": "python",
   "pygments_lexer": "ipython3",
   "version": "3.8.8"
  }
 },
 "nbformat": 4,
 "nbformat_minor": 5
}
